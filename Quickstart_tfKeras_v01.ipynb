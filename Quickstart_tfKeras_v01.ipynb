{
  "nbformat": 4,
  "nbformat_minor": 0,
  "metadata": {
    "colab": {
      "name": "Quickstart_tfKeras.ipynb",
      "provenance": [],
      "toc_visible": true
    },
    "kernelspec": {
      "name": "python3",
      "display_name": "Python 3"
    },
    "accelerator": "GPU"
  },
  "cells": [
    {
      "cell_type": "markdown",
      "metadata": {
        "id": "GhJu4GGVV2vd"
      },
      "source": [
        "## Quickstart tensorflow Keras Tutorial (MNIST + A simple-Lenet)\n",
        "Ref[1]: https://www.tensorflow.org/tutorials/quickstart/beginner <br>\n",
        "Ref[2]: https://www.tensorflow.org/tutorials/keras/save_and_load <br>\n",
        "Ref[3]: https://keras.io/api/\n"
      ]
    },
    {
      "cell_type": "code",
      "metadata": {
        "id": "PWpuHPUs5l7m"
      },
      "source": [
        "import tensorflow as tf\n",
        "\n",
        "mnist = tf.keras.datasets.mnist\n",
        "(x_train, y_train), (x_test, y_test) = mnist.load_data()\n",
        "x_train, x_test = x_train / 255.0, x_test / 255.0"
      ],
      "execution_count": 1,
      "outputs": []
    },
    {
      "cell_type": "code",
      "metadata": {
        "colab": {
          "base_uri": "https://localhost:8080/"
        },
        "id": "SWrxUMhtAPeQ",
        "outputId": "5d1bf78f-0a14-4f6c-c1cc-78d08ec2013c"
      },
      "source": [
        "print(x_train.shape, y_train.shape)\n",
        "print(x_test.shape, y_test.shape)"
      ],
      "execution_count": 2,
      "outputs": [
        {
          "output_type": "stream",
          "text": [
            "(60000, 28, 28) (60000,)\n",
            "(10000, 28, 28) (10000,)\n"
          ],
          "name": "stdout"
        }
      ]
    },
    {
      "cell_type": "code",
      "metadata": {
        "colab": {
          "base_uri": "https://localhost:8080/",
          "height": 166
        },
        "id": "HQnIjZtmAKnn",
        "outputId": "b72e63de-ce58-456f-b150-aa6e6db8cb73"
      },
      "source": [
        "import matplotlib.pyplot as plt\n",
        "# plot images as gray scale\n",
        "plt.subplot(221)\n",
        "plt.imshow(x_train[0], cmap=plt.get_cmap('gray'))\n",
        "plt.subplot(222)\n",
        "plt.imshow(x_train[1], cmap=plt.get_cmap('gray'))\n",
        "#show the plot"
      ],
      "execution_count": 3,
      "outputs": [
        {
          "output_type": "execute_result",
          "data": {
            "text/plain": [
              "<matplotlib.image.AxesImage at 0x7fe4f2e0b390>"
            ]
          },
          "metadata": {
            "tags": []
          },
          "execution_count": 3
        },
        {
          "output_type": "display_data",
          "data": {
            "image/png": "[encoded data removed]",
            "text/plain": [
              "<Figure size 432x288 with 2 Axes>"
            ]
          },
          "metadata": {
            "tags": [],
            "needs_background": "light"
          }
        }
      ]
    },
    {
      "cell_type": "code",
      "metadata": {
        "colab": {
          "base_uri": "https://localhost:8080/"
        },
        "id": "hE41klRwBqmD",
        "outputId": "cdd226dd-cbde-47e8-e335-376d4f5544e6"
      },
      "source": [
        "print(x_train.shape, x_test.shape)\n",
        "x_train = x_train[..., tf.newaxis].astype(\"float32\")\n",
        "x_test = x_test[..., tf.newaxis].astype(\"float32\")\n",
        "print(x_train.shape, x_test.shape)"
      ],
      "execution_count": 4,
      "outputs": [
        {
          "output_type": "stream",
          "text": [
            "(60000, 28, 28) (10000, 28, 28)\n",
            "(60000, 28, 28, 1) (10000, 28, 28, 1)\n"
          ],
          "name": "stdout"
        }
      ]
    },
    {
      "cell_type": "code",
      "metadata": {
        "id": "OWUNppLS8oiX",
        "colab": {
          "base_uri": "https://localhost:8080/"
        },
        "outputId": "390b9a63-5f7e-4a97-9799-8bf5704e8f62"
      },
      "source": [
        "#Define a simple sequential model\n",
        "def create_model():\n",
        "  model = tf.keras.models.Sequential([\n",
        "    tf.keras.layers.Conv2D(6, (5,5), activation='sigmoid', use_bias=True, input_shape=(28,28,1)),\n",
        "    tf.keras.layers.AveragePooling2D(pool_size=(4, 4), strides=4, padding=\"valid\"),\n",
        "    tf.keras.layers.Flatten(),\n",
        "    tf.keras.layers.Dense(10)\n",
        "  ])\n",
        "\n",
        "\n",
        "  loss_fn = tf.keras.losses.SparseCategoricalCrossentropy(from_logits=True)\n",
        "  model.compile(optimizer='SGD', #SGD: 0.9254, Adam: 0.94..\n",
        "              loss=loss_fn,\n",
        "              metrics=['accuracy'])\n",
        "  return model\n",
        "\n",
        "# Create a basic model instance\n",
        "model = create_model()\n",
        "model.summary()\n",
        "\n",
        "#predictions = model(x_train[:1]).numpy()\n",
        "#tf.nn.softmax(predictions).numpy()"
      ],
      "execution_count": 5,
      "outputs": [
        {
          "output_type": "stream",
          "text": [
            "Model: \"sequential\"\n",
            "_________________________________________________________________\n",
            "Layer (type)                 Output Shape              Param #   \n",
            "=================================================================\n",
            "conv2d (Conv2D)              (None, 24, 24, 6)         156       \n",
            "_________________________________________________________________\n",
            "average_pooling2d (AveragePo (None, 6, 6, 6)           0         \n",
            "_________________________________________________________________\n",
            "flatten (Flatten)            (None, 216)               0         \n",
            "_________________________________________________________________\n",
            "dense (Dense)                (None, 10)                2170      \n",
            "=================================================================\n",
            "Total params: 2,326\n",
            "Trainable params: 2,326\n",
            "Non-trainable params: 0\n",
            "_________________________________________________________________\n"
          ],
          "name": "stdout"
        }
      ]
    },
    {
      "cell_type": "code",
      "metadata": {
        "id": "qjVdVU1k5l-R"
      },
      "source": [
        "#loss_fn = tf.keras.losses.SparseCategoricalCrossentropy(from_logits=True)\n",
        "#loss_fn(y_train[:1], predictions).numpy()"
      ],
      "execution_count": 6,
      "outputs": []
    },
    {
      "cell_type": "code",
      "metadata": {
        "id": "WivSJyap5mCE",
        "colab": {
          "base_uri": "https://localhost:8080/"
        },
        "outputId": "e4a13150-c9b8-4aa3-8cc8-60d1dcecddb8"
      },
      "source": [
        "import os.path \n",
        "\n",
        "checkpoint_path = \"traing_1/cp.ckpt\"\n",
        "checkpoint_dir = os.path.dirname(checkpoint_path)\n",
        "\n",
        "# Create a callback that saves the model's weights\n",
        "cp_callback = tf.keras.callbacks.ModelCheckpoint(filepath=checkpoint_path, \n",
        "                                                 save_weights_only=True,\n",
        "                                                 verbose=1)\n",
        "# Train the model wit hthe new callback\n",
        "model.fit(x_train, y_train, epochs=5, callbacks=[cp_callback]) # Pass callback to training"
      ],
      "execution_count": 7,
      "outputs": [
        {
          "output_type": "stream",
          "text": [
            "Epoch 1/5\n",
            "1875/1875 [==============================] - 5s 2ms/step - loss: 2.2003 - accuracy: 0.2622\n",
            "\n",
            "Epoch 00001: saving model to traing_1/cp.ckpt\n",
            "Epoch 2/5\n",
            "1875/1875 [==============================] - 3s 2ms/step - loss: 1.3065 - accuracy: 0.7360\n",
            "\n",
            "Epoch 00002: saving model to traing_1/cp.ckpt\n",
            "Epoch 3/5\n",
            "1875/1875 [==============================] - 3s 2ms/step - loss: 0.7925 - accuracy: 0.8155\n",
            "\n",
            "Epoch 00003: saving model to traing_1/cp.ckpt\n",
            "Epoch 4/5\n",
            "1875/1875 [==============================] - 3s 2ms/step - loss: 0.6280 - accuracy: 0.8396\n",
            "\n",
            "Epoch 00004: saving model to traing_1/cp.ckpt\n",
            "Epoch 5/5\n",
            "1875/1875 [==============================] - 3s 2ms/step - loss: 0.5451 - accuracy: 0.8550\n",
            "\n",
            "Epoch 00005: saving model to traing_1/cp.ckpt\n"
          ],
          "name": "stdout"
        },
        {
          "output_type": "execute_result",
          "data": {
            "text/plain": [
              "<tensorflow.python.keras.callbacks.History at 0x7fe4f2d9e898>"
            ]
          },
          "metadata": {
            "tags": []
          },
          "execution_count": 7
        }
      ]
    },
    {
      "cell_type": "code",
      "metadata": {
        "colab": {
          "base_uri": "https://localhost:8080/"
        },
        "id": "KZFb9VkLxvsV",
        "outputId": "ec3b896c-066d-41c1-ef45-aef8aae1a3b2"
      },
      "source": [
        "!ls ./traing_1"
      ],
      "execution_count": 8,
      "outputs": [
        {
          "output_type": "stream",
          "text": [
            "checkpoint  cp.ckpt.data-00000-of-00001  cp.ckpt.index\n"
          ],
          "name": "stdout"
        }
      ]
    },
    {
      "cell_type": "code",
      "metadata": {
        "colab": {
          "base_uri": "https://localhost:8080/"
        },
        "id": "nyQu-augmb1J",
        "outputId": "3d801265-3d9b-4349-d619-d73c9807ebe5"
      },
      "source": [
        "model = create_model()\n",
        "loss, acc = model.evaluate(x_test, y_test, verbose=2)\n",
        "print(\"Untrained model, accuracy: {:5.2f}%\".format(100*acc))"
      ],
      "execution_count": 9,
      "outputs": [
        {
          "output_type": "stream",
          "text": [
            "313/313 - 1s - loss: 2.4023 - accuracy: 0.0999\n",
            "Untrained model, accuracy:  9.99%\n"
          ],
          "name": "stdout"
        }
      ]
    },
    {
      "cell_type": "code",
      "metadata": {
        "colab": {
          "base_uri": "https://localhost:8080/"
        },
        "id": "p6OM4Pg2nbvN",
        "outputId": "f140eaa4-0680-4807-f651-3fc2243c1c2d"
      },
      "source": [
        "model.load_weights(checkpoint_path)\n",
        "loss, acc = model.evaluate(x_test, y_test, verbose=2)\n",
        "print(\"Restored model, accuracy: {:5.2f}%\".format(100*acc))"
      ],
      "execution_count": 10,
      "outputs": [
        {
          "output_type": "stream",
          "text": [
            "313/313 - 0s - loss: 0.4865 - accuracy: 0.8721\n",
            "Restored model, accuracy: 87.21%\n"
          ],
          "name": "stdout"
        }
      ]
    },
    {
      "cell_type": "markdown",
      "metadata": {
        "id": "DCNBHlyxnV_F"
      },
      "source": [
        "For test"
      ]
    },
    {
      "cell_type": "code",
      "metadata": {
        "id": "44IfPB1t5mIj",
        "colab": {
          "base_uri": "https://localhost:8080/"
        },
        "outputId": "53cefa8e-a803-4585-c92f-62afe87ac1eb"
      },
      "source": [
        "probability_model = tf.keras.Sequential([model, tf.keras.layers.Softmax()])\n",
        "probability_model(x_test[:5])"
      ],
      "execution_count": 11,
      "outputs": [
        {
          "output_type": "execute_result",
          "data": {
            "text/plain": [
              "<tf.Tensor: shape=(5, 10), dtype=float32, numpy=\n",
              "array([[2.3196392e-04, 1.3730033e-04, 1.9361952e-04, 3.0865779e-03,\n",
              "        3.0471725e-04, 5.2913680e-04, 7.6938213e-06, 9.9181420e-01,\n",
              "        1.6643359e-04, 3.5282683e-03],\n",
              "       [6.6522635e-03, 4.4148592e-03, 8.0692691e-01, 4.5807246e-02,\n",
              "        2.9282648e-05, 6.3510120e-02, 3.0010346e-02, 1.4966785e-05,\n",
              "        4.2508453e-02, 1.2548901e-04],\n",
              "       [5.6773508e-05, 9.7317040e-01, 4.1866414e-03, 1.9036857e-03,\n",
              "        1.4302603e-03, 3.9006262e-03, 2.0935223e-03, 1.0606363e-02,\n",
              "        8.1323204e-04, 1.8385303e-03],\n",
              "       [9.4436479e-01, 1.9233976e-06, 5.5199680e-03, 4.9507436e-03,\n",
              "        3.6104224e-04, 1.3335221e-02, 1.9527620e-02, 2.5094028e-03,\n",
              "        4.1364520e-03, 5.2928436e-03],\n",
              "       [2.9114692e-03, 8.1282240e-05, 7.2895968e-03, 7.5893407e-04,\n",
              "        8.8276166e-01, 8.8098953e-03, 1.2779441e-02, 2.8252663e-02,\n",
              "        1.0768487e-03, 5.5278201e-02]], dtype=float32)>"
            ]
          },
          "metadata": {
            "tags": []
          },
          "execution_count": 11
        }
      ]
    },
    {
      "cell_type": "code",
      "metadata": {
        "colab": {
          "base_uri": "https://localhost:8080/"
        },
        "id": "nHdFBgnZJ6by",
        "outputId": "b4908c80-c1f3-4351-8870-7f24ea02715c"
      },
      "source": [
        "print(x_train.shape, x_test.shape)\n",
        "#x_train = x_train[..., tf.newaxis].astype(\"float32\")\n",
        "#x_test = x_test[..., tf.newaxis].astype(\"float32\")\n",
        "x_train = x_train[:].reshape(-1, 28, 28)\n",
        "x_test = x_test[:].reshape(-1, 28, 28) \n",
        "\n",
        "print(x_train.shape, x_test.shape)"
      ],
      "execution_count": 12,
      "outputs": [
        {
          "output_type": "stream",
          "text": [
            "(60000, 28, 28, 1) (10000, 28, 28, 1)\n",
            "(60000, 28, 28) (10000, 28, 28)\n"
          ],
          "name": "stdout"
        }
      ]
    },
    {
      "cell_type": "code",
      "metadata": {
        "colab": {
          "base_uri": "https://localhost:8080/",
          "height": 126
        },
        "id": "3Rg97LbiJBgr",
        "outputId": "1d59ac27-117c-494d-bfea-482080ebe11c"
      },
      "source": [
        "plt.subplot(251)\n",
        "plt.imshow(x_test[0], cmap=plt.get_cmap('gray'))\n",
        "plt.subplot(252)\n",
        "plt.imshow(x_test[1], cmap=plt.get_cmap('gray'))\n",
        "plt.subplot(253)\n",
        "plt.imshow(x_test[2], cmap=plt.get_cmap('gray'))\n",
        "plt.subplot(254)\n",
        "plt.imshow(x_test[3], cmap=plt.get_cmap('gray'))\n",
        "plt.subplot(255)\n",
        "plt.imshow(x_test[4], cmap=plt.get_cmap('gray'))"
      ],
      "execution_count": 13,
      "outputs": [
        {
          "output_type": "execute_result",
          "data": {
            "text/plain": [
              "<matplotlib.image.AxesImage at 0x7fe49a050080>"
            ]
          },
          "metadata": {
            "tags": []
          },
          "execution_count": 13
        },
        {
          "output_type": "display_data",
          "data": {
            "image/png": "[encoded data removed]",
            "text/plain": [
              "<Figure size 432x288 with 5 Axes>"
            ]
          },
          "metadata": {
            "tags": [],
            "needs_background": "light"
          }
        }
      ]
    }
  ]
}